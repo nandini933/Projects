{
  "nbformat": 4,
  "nbformat_minor": 0,
  "metadata": {
    "colab": {
      "provenance": [],
      "gpuType": "T4",
      "authorship_tag": "ABX9TyOKBknogdD8EZDPPsJ9KnbN",
      "include_colab_link": true
    },
    "kernelspec": {
      "name": "python3",
      "display_name": "Python 3"
    },
    "language_info": {
      "name": "python"
    },
    "accelerator": "GPU"
  },
  "cells": [
    {
      "cell_type": "markdown",
      "metadata": {
        "id": "view-in-github",
        "colab_type": "text"
      },
      "source": [
        "<a href=\"https://colab.research.google.com/github/nandini933/CSS/blob/main/DAA_micro_project.ipynb\" target=\"_parent\"><img src=\"https://colab.research.google.com/assets/colab-badge.svg\" alt=\"Open In Colab\"/></a>"
      ]
    },
    {
      "cell_type": "code",
      "source": [
        "# Import random module\n",
        "import random\n",
        "print('Snake - Water - Gun')\n",
        "\n",
        "\n",
        "# Input no. of rounds\n",
        "n = int(input('Enter number of rounds: '))\n",
        "\n",
        "\n",
        "# List containing Snake(s), Water(w), Gun(g)\n",
        "options = ['s', 'w', 'g']\n",
        "\n",
        "# Round numbers\n",
        "rounds = 1\n",
        "\n",
        "# Count of computer wins\n",
        "comp_win = 0\n",
        "\n",
        "# Count of player wins\n",
        "user_win = 0\n",
        "\n",
        "\n",
        "# There will be n rounds of game\n",
        "while rounds <= n:\n",
        "\n",
        "\t# Display round\n",
        "\tprint(f\"Round :{rounds}\\nSnake - 's'\\nWater - 'w'\\nGun - 'g'\")\n",
        "\n",
        "\t# Exception handling\n",
        "\ttry:\n",
        "\t\tplayer = input(\"Choose your option: \")\n",
        "\texcept EOFError as e:\n",
        "\t\tprint(e)\n",
        "\n",
        "\t# Control of bad inputs\n",
        "\tif player != 's' and player != 'w' and player != 'g':\n",
        "\t\tprint(\"Invalid input, try again\\n\")\n",
        "\t\tcontinue\n",
        "\n",
        "\t# random.choice() will randomly choose\n",
        "\t# item from list- options\n",
        "\tcomputer = random.choice(options)\n",
        "\n",
        "\t# Conditions based on the game rule\n",
        "\tif computer == 's':\n",
        "\t\tif player == 'w':\n",
        "\t\t\tcomp_win += 1\n",
        "\t\telif player == 'g':\n",
        "\t\t\tuser_win += 1\n",
        "\n",
        "\telif computer == 'w':\n",
        "\t\tif player == 'g':\n",
        "\t\t\tcomp_win += 1\n",
        "\t\telif player == 's':\n",
        "\t\t\tuser_win += 1\n",
        "\n",
        "\telif computer == 'g':\n",
        "\t\tif player == 's':\n",
        "\t\t\tcomp_win += 1\n",
        "\t\telif player == 'w':\n",
        "\t\t\tuser_win += 1\n",
        "\n",
        "\t# Announce winner of every round\n",
        "\tif user_win > comp_win:\n",
        "\t\tprint(f\"You Won round {rounds}\\n\")\n",
        "\telif comp_win > user_win:\n",
        "\t\tprint(f\"Computer Won round {rounds}\\n\")\n",
        "\telse:\n",
        "\t\tprint(\"Draw!!\\n\")\n",
        "\n",
        "\trounds += 1\n",
        "\n",
        "\n",
        "# Final winner based on the number of wons\n",
        "if user_win > comp_win:\n",
        "\tprint(\"Congratulations!! You Won\")\n",
        "elif comp_win > user_win:\n",
        "\tprint(\"You lose!!\")\n",
        "else:\n",
        "\tprint(\"Match Draw!!\")"
      ],
      "metadata": {
        "colab": {
          "base_uri": "https://localhost:8080/"
        },
        "id": "PLRb9pdMU1a6",
        "outputId": "398717c9-2ef2-469d-ecec-1d569dfff8c1"
      },
      "execution_count": null,
      "outputs": [
        {
          "output_type": "stream",
          "name": "stdout",
          "text": [
            "Snake - Water - Gun\n",
            "Enter number of rounds: 3\n",
            "Round :1\n",
            "Snake - 's'\n",
            "Water - 'w'\n",
            "Gun - 'g'\n",
            "Choose your option: w\n",
            "Draw!!\n",
            "\n",
            "Round :2\n",
            "Snake - 's'\n",
            "Water - 'w'\n",
            "Gun - 'g'\n",
            "Choose your option: g\n",
            "You Won round 2\n",
            "\n",
            "Round :3\n",
            "Snake - 's'\n",
            "Water - 'w'\n",
            "Gun - 'g'\n",
            "Choose your option: s\n",
            "You Won round 3\n",
            "\n",
            "Congratulations!! You Won\n"
          ]
        }
      ]
    }
  ]
}